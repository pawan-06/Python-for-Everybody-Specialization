{
 "cells": [
  {
   "cell_type": "markdown",
   "metadata": {},
   "source": [
    "![](Mu1.png)\n",
    "**PAWAN KUMAR**"
   ]
  },
  {
   "cell_type": "markdown",
   "metadata": {},
   "source": [
    "# Course_1"
   ]
  },
  {
   "cell_type": "markdown",
   "metadata": {},
   "source": [
    "# Programming for Everybody (Getting Started with Python)\n",
    "***by University of Michigan***"
   ]
  },
  {
   "cell_type": "markdown",
   "metadata": {},
   "source": [
    "### Week_1 Chapter One - Why we Program?\n",
    "No assignment"
   ]
  },
  {
   "cell_type": "markdown",
   "metadata": {},
   "source": [
    "### Week_2 Installing and Using Python\n",
    "No assignment"
   ]
  },
  {
   "cell_type": "markdown",
   "metadata": {},
   "source": [
    "### Week_3 Chapter One: Why We Program (continued)\n",
    "Assignment :- Write Hello World!\n"
   ]
  },
  {
   "cell_type": "markdown",
   "metadata": {},
   "source": [
    "**Write a program that uses a print statement to say 'hello world'**\n"
   ]
  },
  {
   "cell_type": "code",
   "execution_count": 1,
   "metadata": {},
   "outputs": [
    {
     "name": "stdout",
     "output_type": "stream",
     "text": [
      "hello world\n"
     ]
    }
   ],
   "source": [
    "# the code below almost works\n",
    "print(\"hello world\")"
   ]
  },
  {
   "cell_type": "markdown",
   "metadata": {},
   "source": [
    "### Week_4 Chapter Two: Variables and Expressions\n",
    "Asignment_2.2"
   ]
  },
  {
   "cell_type": "markdown",
   "metadata": {},
   "source": [
    "**2.2 Write a program that uses input to prompt a user for their name and then welcomes with Hello name**"
   ]
  },
  {
   "cell_type": "code",
   "execution_count": 2,
   "metadata": {
    "scrolled": true
   },
   "outputs": [
    {
     "name": "stdout",
     "output_type": "stream",
     "text": [
      "Enter your name:Chuck\n",
      "Hello Chuck\n"
     ]
    }
   ],
   "source": [
    "name = input(\"Enter your name:\")\n",
    "print(\"Hello\",name)"
   ]
  },
  {
   "cell_type": "markdown",
   "metadata": {},
   "source": [
    "Assignment_2.3"
   ]
  },
  {
   "cell_type": "markdown",
   "metadata": {},
   "source": [
    "**2.3 Write a program to prompt the user for hours and rate per hour using input to compute gross pay. Use 35 hours and a rate of 2.75 per hour to test the program (the pay should be 96.25). You should use input to read a string and float() to convert the string to a number. Do not worry about error checking or bad user data.**"
   ]
  },
  {
   "cell_type": "code",
   "execution_count": 3,
   "metadata": {},
   "outputs": [
    {
     "name": "stdout",
     "output_type": "stream",
     "text": [
      "Enter Hours:35\n",
      "Enter rate:2.75\n",
      "Pay: 96.25\n"
     ]
    }
   ],
   "source": [
    "# This first line is provided for you\n",
    "hours = float(input(\"Enter Hours:\"))\n",
    "rate = float(input(\"Enter rate:\"))\n",
    "gross_pay = hours * rate\n",
    "print(\"Pay:\",gross_pay)"
   ]
  },
  {
   "cell_type": "markdown",
   "metadata": {},
   "source": [
    "### Week_5 Chapter Three: Conditional Code\n",
    "Assignment_3.1"
   ]
  },
  {
   "cell_type": "markdown",
   "metadata": {},
   "source": [
    "**3.1 Write a program to prompt the user for hours and rate per hour using input to compute gross pay. Pay the hourly rate for the hours up to 40 and 1.5 times the hourly rate for all hours worked above 40 hours. Use 45 hours and a rate of 10.50 per hour to test the program (the pay should be 498.75). You should use input to read a string and float() to convert the string to a number. Do not worry about error checking the user input - assume the user types numbers properly.**"
   ]
  },
  {
   "cell_type": "code",
   "execution_count": 4,
   "metadata": {},
   "outputs": [
    {
     "name": "stdout",
     "output_type": "stream",
     "text": [
      "Enter Hours:45\n",
      "Enter  Rate:10.50\n",
      "498.75\n"
     ]
    }
   ],
   "source": [
    "h = float(input(\"Enter Hours:\"))\n",
    "r = float(input(\"Enter  Rate:\"))\n",
    "if h < 0 or r < 0:\n",
    "        print( \"none\")\n",
    "elif h > 40:\n",
    "        print (40 * r + (h - 40) * 1.5 * r)\n",
    "else:\n",
    "        print (h * r)\n"
   ]
  },
  {
   "cell_type": "markdown",
   "metadata": {},
   "source": [
    "Assignment_3.3"
   ]
  },
  {
   "cell_type": "markdown",
   "metadata": {},
   "source": [
    "**3.3 Write a program to prompt for a score between 0.0 and 1.0. If the score is out of range, print an error. If the score is between 0.0 and 1.0, print a grade using the following table:\n",
    "Score Grade**\n",
    "**>= 0.9 A**\n",
    "**>= 0.8 B**\n",
    "**>= 0.7 C**\n",
    "**>= 0.6 D**\n",
    "**< 0.6 F**\n",
    "**If the user enters a value out of range, print a suitable error message and exit. For the test, enter a score of 0.85.**"
   ]
  },
  {
   "cell_type": "code",
   "execution_count": 5,
   "metadata": {},
   "outputs": [
    {
     "name": "stdout",
     "output_type": "stream",
     "text": [
      "Enter Score: 0.85\n",
      "B\n"
     ]
    }
   ],
   "source": [
    "score = float(input(\"Enter Score: \"))\n",
    "if score < 0.0 or score > 1.0:\n",
    "    print(\"error\")\n",
    "\n",
    "elif score >= 0.9:\n",
    "    print(\"A\")   \n",
    "elif score >= 0.8:\n",
    "    print(\"B\")\n",
    "elif score >= 0.7:\n",
    "    print(\"C\")\n",
    "elif score >= 0.6:\n",
    "    print(\"D\") \n",
    "elif score < 0.6:\n",
    "    print(\"Fail\")"
   ]
  },
  {
   "cell_type": "markdown",
   "metadata": {},
   "source": [
    "### Week_6 Chapter Four: Functions\n",
    "Assignment_4.6"
   ]
  },
  {
   "cell_type": "markdown",
   "metadata": {},
   "source": [
    "**4.6 Write a program to prompt the user for hours and rate per hour using input to compute gross pay. Pay should be the normal rate for hours up to 40 and time-and-a-half for the hourly rate for all hours worked above 40 hours. Put the logic to do the computation of pay in a function called computepay() and use the function to do the computation. The function should return a value. Use 45 hours and a rate of 10.50 per hour to test the program (the pay should be 498.75). You should use input to read a string and float() to convert the string to a number. Do not worry about error checking the user input unless you want to - you can assume the user types numbers properly. Do not name your variable sum or use the sum() function.**"
   ]
  },
  {
   "cell_type": "code",
   "execution_count": 6,
   "metadata": {},
   "outputs": [
    {
     "name": "stdout",
     "output_type": "stream",
     "text": [
      "Enter Hours:45\n",
      "Enter Rate10.50\n",
      "Pay 498.75\n"
     ]
    }
   ],
   "source": [
    "def computepay(h,r):\n",
    "    if h < 0 or r < 0:\n",
    "        return none\n",
    "    elif h > 40:\n",
    "        return (h * r + (h - 40) *0.5 * r)\n",
    "    else:\n",
    "        return h *  r\n",
    "\n",
    "h = float(input(\"Enter Hours:\"))\n",
    "r = float(input(\"Enter Rate\"))\n",
    "p = computepay(h,r)\n",
    "print(\"Pay\",p)"
   ]
  },
  {
   "cell_type": "markdown",
   "metadata": {},
   "source": [
    "### Week_7 Chapter Five: Loops and Iteration\n",
    "Assignment_5.2"
   ]
  },
  {
   "cell_type": "markdown",
   "metadata": {},
   "source": [
    "**5.2 Write a program that repeatedly prompts a user for integer numbers until the user enters 'done'. Once 'done' is entered, print out the largest and smallest of the numbers. If the user enters anything other than a valid number catch it with a try/except and put out an appropriate message and ignore the number. Enter 7, 2, bob, 10, and 4 and match the output below.**"
   ]
  },
  {
   "cell_type": "code",
   "execution_count": 7,
   "metadata": {},
   "outputs": [
    {
     "name": "stdout",
     "output_type": "stream",
     "text": [
      "Enter a number: 7\n",
      "Enter a number: 2\n",
      "Enter a number: bob\n",
      "Invalid input\n",
      "Enter a number: 10\n",
      "Enter a number: 4\n",
      "Enter a number: done\n",
      "Maximum is 10\n",
      "Minimum is 2\n"
     ]
    }
   ],
   "source": [
    "largest = None\n",
    "smallest = None\n",
    "while True:\n",
    "    user_input = input(\"Enter a number: \")\n",
    "    if user_input == \"done\" :\n",
    "        break\n",
    "    try:\n",
    "        num = int(user_input)\n",
    "        if smallest is None or num < smallest:\n",
    "           smallest = num\n",
    "        elif largest is None or num > largest:\n",
    "             largest = num\n",
    "    except:\n",
    "        print(\"Invalid input\")\n",
    "        continue\n",
    "\n",
    "print(\"Maximum is\", largest)\n",
    "print(\"Minimum is\", smallest)"
   ]
  },
  {
   "cell_type": "markdown",
   "metadata": {},
   "source": [
    "# END"
   ]
  },
  {
   "cell_type": "markdown",
   "metadata": {},
   "source": [
    "**Check my Accomplishment** link:- https://www.coursera.org/account/accomplishments/verify/AZQZ2XDAHH72"
   ]
  },
  {
   "cell_type": "markdown",
   "metadata": {},
   "source": [
    "**This course aims to teach everyone the basics of programming computers using Python. We cover the basics of how one constructs a program from a series of simple instructions in Python.  The course has no pre-requisites and avoids all but the simplest mathematics. Anyone with moderate computer experience should be able to master the materials in this course. This course will cover Chapters 1-5 of the textbook “Python for Everybody”.  Once a student completes this course, they will be ready to take more advanced programming courses.**"
   ]
  },
  {
   "cell_type": "code",
   "execution_count": null,
   "metadata": {},
   "outputs": [],
   "source": []
  }
 ],
 "metadata": {
  "kernelspec": {
   "display_name": "Python 3",
   "language": "python",
   "name": "python3"
  },
  "language_info": {
   "codemirror_mode": {
    "name": "ipython",
    "version": 3
   },
   "file_extension": ".py",
   "mimetype": "text/x-python",
   "name": "python",
   "nbconvert_exporter": "python",
   "pygments_lexer": "ipython3",
   "version": "3.8.3"
  }
 },
 "nbformat": 4,
 "nbformat_minor": 4
}
